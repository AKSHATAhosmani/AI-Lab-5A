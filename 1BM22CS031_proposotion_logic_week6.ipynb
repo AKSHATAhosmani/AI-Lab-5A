{
  "nbformat": 4,
  "nbformat_minor": 0,
  "metadata": {
    "colab": {
      "provenance": []
    },
    "kernelspec": {
      "name": "python3",
      "display_name": "Python 3"
    },
    "language_info": {
      "name": "python"
    }
  },
  "cells": [
    {
      "cell_type": "code",
      "execution_count": 2,
      "metadata": {
        "colab": {
          "base_uri": "https://localhost:8080/"
        },
        "id": "CUC8MwQpOs8e",
        "outputId": "51ee4617-3488-448a-bb8c-635cb04d8f4e"
      },
      "outputs": [
        {
          "output_type": "stream",
          "name": "stdout",
          "text": [
            "Akshata Hosmani\n",
            "1BM22CS031\n",
            "Does KB entail R?  True\n",
            "Does KB entail R -> P?  False\n",
            "Does KB entail Q -> R?  True\n"
          ]
        }
      ],
      "source": [
        "print('Akshata Hosmani\\n1BM22CS031')\n",
        "import itertools\n",
        "\n",
        "# KB: Q -> P, P -> ~Q, Q v R\n",
        "def KB(Q, P, R):\n",
        "    # Q -> P is equivalent to (not Q or P)\n",
        "    kb1 = (not Q or P)\n",
        "\n",
        "    # P -> ~Q is equivalent to (not P or not Q)\n",
        "    kb2 = (not P or not Q)\n",
        "\n",
        "    # Q v R is equivalent to (Q or R)\n",
        "    kb3 = (Q or R)\n",
        "\n",
        "    # The KB is satisfied if all three conditions are true\n",
        "    return kb1 and kb2 and kb3\n",
        "\n",
        "# Check entailment: Does KB entail the query?\n",
        "def check_entailment(query_func):\n",
        "    # Generate all possible truth assignments for Q, P, R\n",
        "    for assignment in itertools.product([False, True], repeat=3):\n",
        "        Q, P, R = assignment\n",
        "\n",
        "        # Check if KB is true for the current assignment\n",
        "        kb_truth = KB(Q, P, R)\n",
        "\n",
        "        # Check if the query is true for the current assignment\n",
        "        query_truth = query_func(Q, P, R)\n",
        "\n",
        "        # If KB is true and the query is false, KB does not entail the query\n",
        "        if kb_truth and not query_truth:\n",
        "            return False\n",
        "\n",
        "    return True\n",
        "\n",
        "# Define the queries:\n",
        "# 1. Does KB entail R?\n",
        "def query1(Q, P, R):\n",
        "    return R\n",
        "\n",
        "# 2. Does KB entail R -> P?\n",
        "def query2(Q, P, R):\n",
        "    return (not R or P)\n",
        "\n",
        "# 3. Does KB entail Q -> R?\n",
        "def query3(Q, P, R):\n",
        "    return (not Q or R)\n",
        "\n",
        "# Check entailment for the given queries\n",
        "print(\"Does KB entail R? \", check_entailment(query1))\n",
        "print(\"Does KB entail R -> P? \", check_entailment(query2))\n",
        "print(\"Does KB entail Q -> R? \", check_entailment(query3))\n"
      ]
    }
  ]
}