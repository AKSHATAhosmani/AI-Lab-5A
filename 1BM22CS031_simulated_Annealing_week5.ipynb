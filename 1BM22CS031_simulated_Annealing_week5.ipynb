{
  "nbformat": 4,
  "nbformat_minor": 0,
  "metadata": {
    "colab": {
      "provenance": []
    },
    "kernelspec": {
      "name": "python3",
      "display_name": "Python 3"
    },
    "language_info": {
      "name": "python"
    }
  },
  "cells": [
    {
      "cell_type": "code",
      "execution_count": 3,
      "metadata": {
        "colab": {
          "base_uri": "https://localhost:8080/"
        },
        "id": "wEUmXwk6o_I1",
        "outputId": "69e289a2-5be5-4d16-d6c0-aff2047d25c4"
      },
      "outputs": [
        {
          "output_type": "stream",
          "name": "stdout",
          "text": [
            "Akshata Hosmani\n",
            "1BM22CS031\n",
            "Solution with 2 conflicts:\n",
            ". . Q . . . . .\n",
            ". . . . . . Q .\n",
            ". . . Q . . . .\n",
            "Q . . . . . . .\n",
            ". . . . . . . Q\n",
            ". . . . Q . . .\n",
            ". . . . . . Q .\n",
            ". . . . . Q . .\n",
            "\n"
          ]
        }
      ],
      "source": [
        "import random\n",
        "import math\n",
        "print(\"Akshata Hosmani\")\n",
        "print(\"1BM22CS031\")\n",
        "# Function to calculate the number of conflicts in a board configuration\n",
        "def calculate_conflicts(board):\n",
        "    conflicts = 0\n",
        "    n = len(board)\n",
        "    for i in range(n):\n",
        "        for j in range(i+1, n):\n",
        "            if board[i] == board[j]:  # Same column\n",
        "                conflicts += 1\n",
        "            if abs(board[i] - board[j]) == j - i:  # Diagonal conflict\n",
        "                conflicts += 1\n",
        "    return conflicts\n",
        "\n",
        "# Function to generate a random board\n",
        "def generate_random_board(n):\n",
        "    return [random.randint(0, n-1) for _ in range(n)]\n",
        "\n",
        "# Function to generate a neighbor by moving one queen to another row in the same column\n",
        "def generate_neighbor(board):\n",
        "    new_board = board[:]\n",
        "    col = random.randint(0, len(board) - 1)\n",
        "    row = random.randint(0, len(board) - 1)\n",
        "    new_board[col] = row\n",
        "    return new_board\n",
        "\n",
        "# Simulated Annealing function to solve the N-Queens problem\n",
        "def simulated_annealing(n, initial_temperature, cooling_rate):\n",
        "    # Step 1: Start with a random solution\n",
        "    current_solution = generate_random_board(n)\n",
        "    current_conflicts = calculate_conflicts(current_solution)\n",
        "\n",
        "    temperature = initial_temperature\n",
        "    best_solution = current_solution\n",
        "    best_conflicts = current_conflicts\n",
        "\n",
        "    # Step 2: Main loop of simulated annealing\n",
        "    while temperature > 1:\n",
        "        # Generate a neighbor solution\n",
        "        neighbor_solution = generate_neighbor(current_solution)\n",
        "        neighbor_conflicts = calculate_conflicts(neighbor_solution)\n",
        "\n",
        "        # Calculate the change in conflicts\n",
        "        delta_conflicts = neighbor_conflicts - current_conflicts\n",
        "\n",
        "        # Accept the neighbor solution with a certain probability\n",
        "        if delta_conflicts < 0 or random.random() < math.exp(-delta_conflicts / temperature):\n",
        "            current_solution = neighbor_solution\n",
        "            current_conflicts = neighbor_conflicts\n",
        "\n",
        "            # Update best solution if the new solution is better\n",
        "            if current_conflicts < best_conflicts:\n",
        "                best_solution = current_solution\n",
        "                best_conflicts = current_conflicts\n",
        "\n",
        "        # Decrease temperature\n",
        "        temperature *= cooling_rate\n",
        "\n",
        "    return best_solution, best_conflicts\n",
        "\n",
        "# Function to display the board\n",
        "def display_board(board):\n",
        "    n = len(board)\n",
        "    for i in range(n):\n",
        "        row = ['Q' if j == board[i] else '.' for j in range(n)]\n",
        "        print(' '.join(row))\n",
        "    print()\n",
        "\n",
        "# Parameters\n",
        "n = 8  # 8 Queens\n",
        "initial_temperature = 1000\n",
        "cooling_rate = 0.995\n",
        "\n",
        "# Solve the 8-Queens problem using Simulated Annealing\n",
        "solution, conflicts = simulated_annealing(n, initial_temperature, cooling_rate)\n",
        "\n",
        "# Display the solution\n",
        "print(f\"Solution with {conflicts} conflicts:\")\n",
        "display_board(solution)\n"
      ]
    }
  ]
}